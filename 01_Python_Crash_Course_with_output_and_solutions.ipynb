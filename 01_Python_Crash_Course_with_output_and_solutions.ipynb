








<!DOCTYPE html>
<html lang="en">

<head>
  <meta charset="utf-8">
  <title>Jupyter Notebook Viewer</title>
  <meta name="viewport" content="width=device-width, initial-scale=1.0">
  <meta name="description" content="">
  <meta name="author" content="">
  
  <meta name="robots" content="noindex,nofollow">
  

  <!--NEW RELIC Start Perf Measurement-->
  
  <!--NREND-->

  <!-- Le styles -->
  <script src="/cdn-cgi/apps/head/MuIIl4I_IVFkxldaVu1mdWee9as.js"></script><link href="/static/build/styles.css?v=d2f574aebb7720ccb35207ba1db4cfbb" rel="stylesheet">

  <!-- Le HTML5 shim, for IE6-8 support of HTML5 elements -->
  <!--[if lt IE 9]>
    <script src="http://html5shim.googlecode.com/svn/trunk/html5.js"></script>
  <![endif]-->

  <!-- Le fav and touch icons -->
  <link rel="shortcut icon" href="/static/ico/ipynb_icon_16x16.png">
  <link rel="apple-touch-icon-precomposed" sizes="144x144"
        href="/static/ico/apple-touch-icon-144-precomposed.png?v=5a3c9ede93e2a8b8ea9e3f8f3da1a905">
  <link rel="apple-touch-icon-precomposed" sizes="114x114"
        href="/static/ico/apple-touch-icon-114-precomposed.png?v=45d86fc8f24dc00638035e1dd7a6d898">
  <link rel="apple-touch-icon-precomposed" sizes="72x72"
        href="/static/ico/apple-touch-icon-72-precomposed.png?v=540b5eb0f3cfd25f1439d1c9bd30e15f">
  <link rel="apple-touch-icon-precomposed"
        href="/static/ico/apple-touch-icon-57-precomposed.png?v=225f0590e187e1458625654f10a28f56">
  
  

  

  
  <meta name="twitter:card" content="summary">
  <meta name="twitter:title" content="Notebook on nbviewer">
  <meta name="twitter:description" content="Check out this Jupyter notebook!">

  
  <meta name="twitter:domain" content="nbviewer.ipython.org">
  <meta name="twitter:image:src" content="http://ipython.org/ipython-doc/dev/_images/ipynb_icon_128x128.png">

  
    <link href="/static/build/notebook.css?v=7ff1df8ccee6dd13babbd66843869949" rel="stylesheet">
  

  

  
    <script src="https://cdnjs.cloudflare.com/ajax/libs/mathjax/2.7.1/MathJax.js?config=TeX-AMS_HTML" type="text/javascript">
    </script>
    <script type="text/javascript">
      init_mathjax = function() {
        if (window.MathJax) {
          // MathJax loaded
          MathJax.Hub.Config({
            TeX: {
              equationNumbers: {
                autoNumber: "AMS",
                useLabelIds: true
              }
            },
            tex2jax: {
              inlineMath: [ ['$','$'], ["\\(","\\)"] ],
              displayMath: [ ['$$','$$'], ["\\[","\\]"] ],
              processEscapes: true,
              processEnvironments: true
            },
            displayAlign: 'center',
            "HTML-CSS": {
              styles: {'.MathJax_Display': {"margin": 0}},
              linebreaks: { automatic: true }
            }
          });
          MathJax.Hub.Queue(["Typeset", MathJax.Hub]);
        }
      }
      init_mathjax();
    </script>
  

  
    <script>
      (function() {
        function addWidgetsRenderer() {
          var mimeElement = document.querySelector('script[type="application/vnd.jupyter.widget-view+json"]');
          var scriptElement = document.createElement('script');
          var widgetRendererSrc = 'https://unpkg.com/@jupyter-widgets/html-manager@*/dist/embed-amd.js';
          var widgetState;

          try {
            widgetState = mimeElement && JSON.parse(mimeElement.innerHTML);

            if (widgetState && (widgetState.version_major < 2 || !widgetState.version_major)) {
              widgetRendererSrc = 'https://unpkg.com/jupyter-js-widgets@*/dist/embed.js';
            }
          } catch(e) {}

          scriptElement.src = widgetRendererSrc;
          document.body.appendChild(scriptElement);
        }

        document.addEventListener('DOMContentLoaded', addWidgetsRenderer);
      }());
    </script>
  

</head>

<body class="nbviewer">

  <!-- These are loaded at the top of the body so they are available to
       notebook cells when they are loaded below. -->
  <script src="/static/components/jquery/dist/jquery.min.js?v=c9f5aeeca3ad37bf2aa006139b935f0a"></script>
  <script src="/static/components/requirejs/require.js?v=6da8be361b9ee26c5e721e76c6d4afce"></script>
  <script src="/static/components/moment/min/moment.min.js?v=89f87298ad94aa1e6b92f42eb66da043"></script>
<!-- Navbar
================================================== -->
  <nav id="menubar" class="navbar navbar-default navbar-fixed-top" data-spy="affix">
    <div class="container">
      <div class="navbar-header">
        <button type="button" class="navbar-toggle collapsed" data-toggle="collapse" data-target=".navbar-collapse">
          <span class="sr-only">Toggle navigation</span>
          <i class="fa fa-bars"></i>
        </button>
        <a class="navbar-brand" href="/">
          <img src="/static/img/nav_logo.svg?v=479cefe8d932fb14a67b93911b97d70f" width="159"/>
        </a>
      </div>

      <div class="collapse navbar-collapse">
        <ul class="nav navbar-nav navbar-right">
          <li>
            <a class="active" href="http://jupyter.org">JUPYTER</a>
          </li>
          <li>
    <a href="/faq" title="FAQ" >
      
        <span>FAQ</span>
      
    </a>
  </li>

          
  
    
  
    
      
        <li>
    <a href="/format/script/github/obspy/docs/blob/master/workshops/2015-08-03_iris/01_Python_Crash_Course_with_output_and_solutions.ipynb" title="View as Code" >
      <span class="fa fa-code fa-2x menu-icon"></span>
      <span class="menu-text">View as Code</span>
    </a>
  </li>
      
    
  

  
    <li>
    <a href="#" title="Python 2 Kernel" >
      <span class="fa fa-server fa-2x menu-icon"></span>
      <span class="menu-text">Python 2 Kernel</span>
    </a>
  </li>
  

  
    <li>
    <a href="https://github.com/obspy/docs/blob/master/workshops/2015-08-03_iris/01_Python_Crash_Course_with_output_and_solutions.ipynb" title="View on GitHub" >
      <span class="fa fa-github fa-2x menu-icon"></span>
      <span class="menu-text">View on GitHub</span>
    </a>
  </li>
  

  <li>
    <a href="https://raw.githubusercontent.com/obspy/docs/master/workshops/2015-08-03_iris/01_Python_Crash_Course_with_output_and_solutions.ipynb" title="Download Notebook" download>
      <span class="fa fa-download fa-2x menu-icon"></span>
      <span class="menu-text">Download Notebook</span>
    </a>
  </li>

        </ul>
      </div><!-- /.navbar-collapse -->
      
      
    </div>
  </nav>

  <div class="container container-main">
    
  
  <ol class="breadcrumb">
    
      <li>
        <a href="/github/obspy/docs/tree/master">docs</a>
      </li>
    
      <li>
        <a href="/github/obspy/docs/tree/master/workshops">workshops</a>
      </li>
    
      <li>
        <a href="/github/obspy/docs/tree/master/workshops/2015-08-03_iris">2015-08-03_iris</a>
      </li>
    
  </ol>
  
  <div id="notebook">
    <div id="notebook-container">
      
<div class="cell border-box-sizing text_cell rendered"><div class="prompt input_prompt">
</div>
<div class="inner_cell">
<div class="text_cell_render border-box-sizing rendered_html">
<div style="background-image:url(images/meschede-seismic-waves.png); padding: 10px 30px 20px 30px; background-size:cover; background-opacity:50%; border-radius:5px">
<p style="float:right; margin-top:20px; padding: 20px 20px 0px 20px; background:rgba(255,255,255,0.6); border-radius:10px;">
<img width="400px" src=images/obspy_logo_full_524x179px.png?raw=true>

</p>

<h1 style="color:#999">IRIS-EarthScope Short Course</h1>
<h5 style="color:#FFF">Bloomington/IN, August 2015</h5>
<br/>
<h2 style="color:#EEE">Python/ObsPy Introduction</h2>
<br/>

</div>
<div align="right">image by Matthias Meschede</div>
</div>
</div>
</div>
<div class="cell border-box-sizing text_cell rendered"><div class="prompt input_prompt">
</div>
<div class="inner_cell">
<div class="text_cell_render border-box-sizing rendered_html">
<h2 id="How-to-Use-Python">How to Use Python<a class="anchor-link" href="#How-to-Use-Python">&#182;</a></h2><p>There are different ways to use Python..</p>
<ul>
<li>write a <code>my_program.py</code> Python file (e.g. using a text editor of choice, or an IDE), run the file with <code>$ python my_program.py</code><ul>
<li>easy to give the file to somebody else, basic human readable text file</li>
</ul>
</li>
<li>use the interactive IPython shell<ul>
<li>code can be executed line-by-line, results immediately visible</li>
<li>quick interactive playing around / prototyping (tab completion etc.)</li>
</ul>
</li>
<li>in browser using the IPython/Jupyter notebook<ul>
<li>code can be nicely mixed with images, formulas, text, exercise instructions.. good for teaching!</li>
<li>current state of variables can be a bit confusing sometimes</li>
</ul>
</li>
</ul>
<h2 id="The-IPython/Jupyter-Notebook">The IPython/Jupyter Notebook<a class="anchor-link" href="#The-IPython/Jupyter-Notebook">&#182;</a></h2><p>The <a href="http://www.nature.com/news/interactive-notebooks-sharing-the-code-1.16261">IPython/Jupyter notebook</a> is a good way to combine text/formulas/images/diagrams with executable Python code cells, making it ideal for teaching Python tutorials.</p>
<p>Most Important:</p>
<ul>
<li>on previously assigned variables (after the cell was executed), use tab completion for introspection!</li>
</ul>

</div>
</div>
</div>
<div class="cell border-box-sizing code_cell rendered">
<div class="input">
<div class="prompt input_prompt">In&nbsp;[1]:</div>
<div class="inner_cell">
    <div class="input_area">
<div class=" highlight hl-ipython2"><pre><span></span><span class="n">x</span> <span class="o">=</span> <span class="s2">&quot;Hello World!&quot;</span>
</pre></div>

</div>
</div>
</div>

</div>
<div class="cell border-box-sizing code_cell rendered">
<div class="input">
<div class="prompt input_prompt">In&nbsp;[&nbsp;]:</div>
<div class="inner_cell">
    <div class="input_area">
<div class=" highlight hl-ipython2"><pre><span></span><span class="n">x</span><span class="o">.</span>
</pre></div>

</div>
</div>
</div>

</div>
<div class="cell border-box-sizing text_cell rendered"><div class="prompt input_prompt">
</div>
<div class="inner_cell">
<div class="text_cell_render border-box-sizing rendered_html">
<ul>
<li>use question mark for help on functions/methods</li>
</ul>

</div>
</div>
</div>
<div class="cell border-box-sizing code_cell rendered">
<div class="input">
<div class="prompt input_prompt">In&nbsp;[&nbsp;]:</div>
<div class="inner_cell">
    <div class="input_area">
<div class=" highlight hl-ipython2"><pre><span></span>x.lower<span class="o">?</span>
</pre></div>

</div>
</div>
</div>

</div>
<div class="cell border-box-sizing text_cell rendered"><div class="prompt input_prompt">
</div>
<div class="inner_cell">
<div class="text_cell_render border-box-sizing rendered_html">
<h4 id="Quick-Toolbar-Reference">Quick Toolbar Reference<a class="anchor-link" href="#Quick-Toolbar-Reference">&#182;</a></h4><p><img src="images/notebook_toolbar.png" style="width:70%"></img></p>
<ul>
<li><code>Shift + Enter</code>: Execute cell and jump to the next cell</li>
<li><code>Ctrl + Enter</code>: Execute cell and don't jump to the next cell</li>
<li>If code execution is not responding anymore: <em>Restart kernel</em> (cache of previously assigned variables gets emptied!)</li>
</ul>
<hr>
<p>First things first: you will find these six lines in every notebook. <strong>Always execute them!</strong> They do three things:</p>
<ul>
<li>Make plots appear in the browser (otherwise a window pops up)</li>
<li>Printing things works like this: </li>
</ul>
<div class="highlight"><pre><span></span><span class="k">print</span><span class="p">(</span><span class="s2">&quot;Hello&quot;</span><span class="p">)</span>
</pre></div>
<ul>
<li>Plots look quite a bit nicer (this is optional).</li>
</ul>
<p>This essentially makes the notebooks work under Python 2 and Python 3.</p>

</div>
</div>
</div>
<div class="cell border-box-sizing code_cell rendered">
<div class="input">
<div class="prompt input_prompt">In&nbsp;[1]:</div>
<div class="inner_cell">
    <div class="input_area">
<div class=" highlight hl-ipython2"><pre><span></span><span class="o">%</span><span class="k">matplotlib</span> inline
<span class="kn">from</span> <span class="nn">__future__</span> <span class="kn">import</span> <span class="n">print_function</span>
<span class="kn">import</span> <span class="nn">numpy</span> <span class="kn">as</span> <span class="nn">np</span>
<span class="kn">import</span> <span class="nn">matplotlib.pyplot</span> <span class="kn">as</span> <span class="nn">plt</span>
<span class="n">plt</span><span class="o">.</span><span class="n">style</span><span class="o">.</span><span class="n">use</span><span class="p">(</span><span class="s1">&#39;ggplot&#39;</span><span class="p">)</span>
<span class="n">plt</span><span class="o">.</span><span class="n">rcParams</span><span class="p">[</span><span class="s1">&#39;figure.figsize&#39;</span><span class="p">]</span> <span class="o">=</span> <span class="mi">12</span><span class="p">,</span> <span class="mi">8</span>
</pre></div>

</div>
</div>
</div>

</div>
<div class="cell border-box-sizing text_cell rendered"><div class="prompt input_prompt">
</div>
<div class="inner_cell">
<div class="text_cell_render border-box-sizing rendered_html">
<hr>
<h2 id="Useful-Links">Useful Links<a class="anchor-link" href="#Useful-Links">&#182;</a></h2><p>Here is collection of resources to introduce you the scientific Python ecosystem. They cover a number of different packages and topics; way more than we will manage today.</p>
<p>If you have any question regarding some specific Python functionality you can consult the official <a href="https://docs.python.org/">Python documentation</a>.</p>
<p>Furthermore a large number of Python tutorials, introduction, and books are available online. Here are some examples for those interested in learning more.</p>
<ul>
<li><a href="https://automatetheboringstuff.com/">Automate the Boring Stuff with Python</a></li>
<li><a href="http://www.diveintopython3.net/">Dive Into Python 3</a></li>
<li><a href="https://docs.python.org/3/tutorial/index.html">The Official Python Tutorial</a></li>
<li><a href="http://www.greenteapress.com/thinkpython2/">Think Python Book, 2nd Edition</a></li>
</ul>
<p>Some people might be used to Matlab - this helps:</p>
<ul>
<li><a href="https://wiki.scipy.org/NumPy_for_Matlab_Users">NumPy for Matlab Users Introdution</a></li>
<li><a href="http://mathesaurus.sourceforge.net/matlab-numpy.html">NumPy for Matlab Users Cheatsheet</a></li>
</ul>
<p>Additionally there is an abundance of resources introducing and teaching parts of the scientific Python ecosystem.</p>
<ul>
<li><a href="https://wiki.scipy.org/Tentative_NumPy_Tutorial">NumPy Tutorial</a></li>
<li><a href="https://scipy-lectures.github.io/">Python Scientific Lecture Notes</a>: Introduces the basics of scientific Python with lots of examples.</li>
<li><a href="https://python-for-signal-processing.blogspot.de/">Python for Signal Processing</a>: Free blog which is the basis of a proper book written on the subject.</li>
<li><a href="https://www.loria.fr/~rougier/teaching/numpy/numpy.html">Another NumPy Tutorial</a>, <a href="https://www.loria.fr/~rougier/teaching/matplotlib/matplotlib.html">Matplotlib Tutorial</a></li>
</ul>
<p>If you need to create a plot in Python/ObsPy, the quickest way to success is to start from some example that is similar to what you want to achieve. These websites are good starting points:</p>
<ul>
<li><a href="http://matplotlib.org/gallery.html">Matplotlib Gallery</a></li>
<li><a href="https://docs.obspy.org/gallery.html">ObsPy Gallery</a></li>
<li><a href="http://matplotlib.org/basemap/users/examples.html">Basemap Gallery</a></li>
</ul>
<hr>

</div>
</div>
</div>
<div class="cell border-box-sizing text_cell rendered"><div class="prompt input_prompt">
</div>
<div class="inner_cell">
<div class="text_cell_render border-box-sizing rendered_html">
<h1 id="A)-Python-Crash-Course">A) Python Crash Course<a class="anchor-link" href="#A)-Python-Crash-Course">&#182;</a></h1><p>This course is fairly non-interactive and just serves to get you up to speed. Nonetheless feel free to play around.</p>
<h3 id="1.-Numbers">1. Numbers<a class="anchor-link" href="#1.-Numbers">&#182;</a></h3><p>Python is dynamically typed and assigning something to a variable will give it that type.</p>

</div>
</div>
</div>
<div class="cell border-box-sizing code_cell rendered">
<div class="input">
<div class="prompt input_prompt">In&nbsp;[2]:</div>
<div class="inner_cell">
    <div class="input_area">
<div class=" highlight hl-ipython2"><pre><span></span><span class="c1"># Three basic types of numbers</span>
<span class="n">a</span> <span class="o">=</span> <span class="mi">1</span>             <span class="c1"># Integers</span>
<span class="n">b</span> <span class="o">=</span> <span class="mf">2.0</span>           <span class="c1"># Floating Point Numbers</span>
<span class="n">c</span> <span class="o">=</span> <span class="mf">3.0</span> <span class="o">+</span> <span class="mi">4j</span>      <span class="c1"># Complex Numbers</span>

<span class="c1"># Arithmetics work more or less as expected</span>
<span class="n">d</span> <span class="o">=</span> <span class="n">a</span> <span class="o">+</span> <span class="n">b</span>         <span class="c1"># (int + float = float)</span>
<span class="n">e</span> <span class="o">=</span> <span class="n">c</span> <span class="o">**</span> <span class="mi">2</span>        <span class="c1"># c to the second power</span>
</pre></div>

</div>
</div>
</div>

</div>
<div class="cell border-box-sizing text_cell rendered"><div class="prompt input_prompt">
</div>
<div class="inner_cell">
<div class="text_cell_render border-box-sizing rendered_html">
<h3 id="2.-Boolean-values">2. Boolean values<a class="anchor-link" href="#2.-Boolean-values">&#182;</a></h3>
</div>
</div>
</div>
<div class="cell border-box-sizing code_cell rendered">
<div class="input">
<div class="prompt input_prompt">In&nbsp;[3]:</div>
<div class="inner_cell">
    <div class="input_area">
<div class=" highlight hl-ipython2"><pre><span></span><span class="n">current_state</span> <span class="o">=</span> <span class="bp">True</span>
<span class="n">next_state</span> <span class="o">=</span> <span class="ow">not</span> <span class="n">current_state</span>
<span class="k">print</span><span class="p">(</span><span class="n">next_state</span><span class="p">)</span>

<span class="k">print</span><span class="p">(</span><span class="n">b</span> <span class="o">&gt;</span> <span class="mi">100</span><span class="p">)</span>
</pre></div>

</div>
</div>
</div>

<div class="output_wrapper">
<div class="output">


<div class="output_area">

<div class="prompt"></div>


<div class="output_subarea output_stream output_stdout output_text">
<pre>False
False
</pre>
</div>
</div>

</div>
</div>

</div>
<div class="cell border-box-sizing text_cell rendered"><div class="prompt input_prompt">
</div>
<div class="inner_cell">
<div class="text_cell_render border-box-sizing rendered_html">
<h3 id="3.-Strings">3. Strings<a class="anchor-link" href="#3.-Strings">&#182;</a></h3>
</div>
</div>
</div>
<div class="cell border-box-sizing code_cell rendered">
<div class="input">
<div class="prompt input_prompt">In&nbsp;[5]:</div>
<div class="inner_cell">
    <div class="input_area">
<div class=" highlight hl-ipython2"><pre><span></span><span class="c1"># You can use single or double quotes to create strings.</span>
<span class="n">location</span> <span class="o">=</span> <span class="s2">&quot;Bloomington&quot;</span>

<span class="c1"># Concatenate strings with plus.</span>
<span class="n">where_am_i</span> <span class="o">=</span> <span class="s2">&quot;I am in &quot;</span> <span class="o">+</span> <span class="n">location</span>

<span class="c1"># Print things with the print() function.</span>
<span class="k">print</span><span class="p">(</span><span class="n">location</span><span class="p">)</span>
<span class="k">print</span><span class="p">(</span><span class="n">where_am_i</span><span class="p">)</span>

<span class="c1"># In Python everything is an object..</span>
<span class="c1"># Strings have a lot of attached methods for common manipulations.</span>
<span class="k">print</span><span class="p">(</span><span class="n">location</span><span class="o">.</span><span class="n">upper</span><span class="p">())</span>

<span class="c1"># Access single items with square bracket. Negative indices are from the back.</span>
<span class="k">print</span><span class="p">(</span><span class="n">location</span><span class="p">[</span><span class="mi">0</span><span class="p">],</span> <span class="n">location</span><span class="p">[</span><span class="o">-</span><span class="mi">1</span><span class="p">])</span>
</pre></div>

</div>
</div>
</div>

<div class="output_wrapper">
<div class="output">


<div class="output_area">

<div class="prompt"></div>


<div class="output_subarea output_stream output_stdout output_text">
<pre>Bloomington
I am in Bloomington
BLOOMINGTON
B n
</pre>
</div>
</div>

</div>
</div>

</div>
<div class="cell border-box-sizing text_cell rendered"><div class="prompt input_prompt">
</div>
<div class="inner_cell">
<div class="text_cell_render border-box-sizing rendered_html">
<h3 id="4.-Lists">4. Lists<a class="anchor-link" href="#4.-Lists">&#182;</a></h3>
</div>
</div>
</div>
<div class="cell border-box-sizing code_cell rendered">
<div class="input">
<div class="prompt input_prompt">In&nbsp;[6]:</div>
<div class="inner_cell">
    <div class="input_area">
<div class=" highlight hl-ipython2"><pre><span></span><span class="c1"># Lists use square brackets and are simple ordered collections of items (of arbitrary type).</span>
<span class="n">everything</span> <span class="o">=</span> <span class="p">[</span><span class="n">a</span><span class="p">,</span> <span class="n">c</span><span class="p">,</span> <span class="n">location</span><span class="p">,</span> <span class="mi">1</span><span class="p">,</span> <span class="mi">2</span><span class="p">,</span> <span class="mi">3</span><span class="p">,</span> <span class="s2">&quot;hello&quot;</span><span class="p">]</span>
<span class="k">print</span><span class="p">(</span><span class="n">everything</span><span class="p">)</span>

<span class="c1"># Access elements with the same slicing/indexing notation as strings.</span>
<span class="c1"># Note that Python indices are zero based!</span>
<span class="k">print</span><span class="p">(</span><span class="n">everything</span><span class="p">[</span><span class="mi">0</span><span class="p">])</span>
<span class="k">print</span><span class="p">(</span><span class="n">everything</span><span class="p">[:</span><span class="mi">3</span><span class="p">])</span>
<span class="k">print</span><span class="p">(</span><span class="n">everything</span><span class="p">[</span><span class="mi">2</span><span class="p">:</span><span class="o">-</span><span class="mi">2</span><span class="p">])</span>
<span class="k">print</span><span class="p">(</span><span class="n">everything</span><span class="p">[</span><span class="o">-</span><span class="mi">3</span><span class="p">:])</span>

<span class="c1"># Append things with the append method.</span>
<span class="c1"># (Other helper methods are available for lists as well)</span>
<span class="n">everything</span><span class="o">.</span><span class="n">append</span><span class="p">(</span><span class="s2">&quot;you&quot;</span><span class="p">)</span>
<span class="k">print</span><span class="p">(</span><span class="n">everything</span><span class="p">)</span>
</pre></div>

</div>
</div>
</div>

<div class="output_wrapper">
<div class="output">


<div class="output_area">

<div class="prompt"></div>


<div class="output_subarea output_stream output_stdout output_text">
<pre>[1, (3+4j), &#39;Bloomington&#39;, 1, 2, 3, &#39;hello&#39;]
1
[1, (3+4j), &#39;Bloomington&#39;]
[&#39;Bloomington&#39;, 1, 2]
[2, 3, &#39;hello&#39;]
[1, (3+4j), &#39;Bloomington&#39;, 1, 2, 3, &#39;hello&#39;, &#39;you&#39;]
</pre>
</div>
</div>

</div>
</div>

</div>
<div class="cell border-box-sizing text_cell rendered"><div class="prompt input_prompt">
</div>
<div class="inner_cell">
<div class="text_cell_render border-box-sizing rendered_html">
<h3 id="5.-Dictionaries">5. Dictionaries<a class="anchor-link" href="#5.-Dictionaries">&#182;</a></h3>
</div>
</div>
</div>
<div class="cell border-box-sizing code_cell rendered">
<div class="input">
<div class="prompt input_prompt">In&nbsp;[7]:</div>
<div class="inner_cell">
    <div class="input_area">
<div class=" highlight hl-ipython2"><pre><span></span><span class="c1"># Dictionaries have named fields and no inherent order. As is</span>
<span class="c1"># the case with lists, they can contain items of any type.</span>
<span class="n">information</span> <span class="o">=</span> <span class="p">{</span>
    <span class="s2">&quot;name&quot;</span><span class="p">:</span> <span class="s2">&quot;John&quot;</span><span class="p">,</span>
    <span class="s2">&quot;surname&quot;</span><span class="p">:</span> <span class="s2">&quot;Doe&quot;</span><span class="p">,</span>
    <span class="s2">&quot;age&quot;</span><span class="p">:</span> <span class="mi">48</span><span class="p">,</span>
    <span class="s2">&quot;kids&quot;</span><span class="p">:</span> <span class="p">[</span><span class="s2">&quot;Johnnie&quot;</span><span class="p">,</span> <span class="s2">&quot;Janie&quot;</span><span class="p">]</span>
<span class="p">}</span>

<span class="c1"># Acccess items by using the key in square brackets.</span>
<span class="k">print</span><span class="p">(</span><span class="n">information</span><span class="p">[</span><span class="s2">&quot;kids&quot;</span><span class="p">])</span>

<span class="c1"># Add new things by just assigning to a key.</span>
<span class="k">print</span><span class="p">(</span><span class="n">information</span><span class="p">)</span>
<span class="n">information</span><span class="p">[</span><span class="s2">&quot;music&quot;</span><span class="p">]</span> <span class="o">=</span> <span class="s2">&quot;jazz&quot;</span>
<span class="k">print</span><span class="p">(</span><span class="n">information</span><span class="p">)</span>
</pre></div>

</div>
</div>
</div>

<div class="output_wrapper">
<div class="output">


<div class="output_area">

<div class="prompt"></div>


<div class="output_subarea output_stream output_stdout output_text">
<pre>[&#39;Johnnie&#39;, &#39;Janie&#39;]
{&#39;age&#39;: 48, &#39;kids&#39;: [&#39;Johnnie&#39;, &#39;Janie&#39;], &#39;surname&#39;: &#39;Doe&#39;, &#39;name&#39;: &#39;John&#39;}
{&#39;music&#39;: &#39;jazz&#39;, &#39;age&#39;: 48, &#39;kids&#39;: [&#39;Johnnie&#39;, &#39;Janie&#39;], &#39;surname&#39;: &#39;Doe&#39;, &#39;name&#39;: &#39;John&#39;}
</pre>
</div>
</div>

</div>
</div>

</div>
<div class="cell border-box-sizing text_cell rendered"><div class="prompt input_prompt">
</div>
<div class="inner_cell">
<div class="text_cell_render border-box-sizing rendered_html">
<h3 id="6.-Functions">6. Functions<a class="anchor-link" href="#6.-Functions">&#182;</a></h3>
</div>
</div>
</div>
<div class="cell border-box-sizing code_cell rendered">
<div class="input">
<div class="prompt input_prompt">In&nbsp;[8]:</div>
<div class="inner_cell">
    <div class="input_area">
<div class=" highlight hl-ipython2"><pre><span></span><span class="c1"># Functions are defined using the &quot;def&quot; keyword.</span>
<span class="c1"># The body of the function is the indented block following the</span>
<span class="c1"># call syntax definition and usually ends with a &quot;return&quot; statement.</span>
<span class="k">def</span> <span class="nf">do_stuff</span><span class="p">(</span><span class="n">a</span><span class="p">,</span> <span class="n">b</span><span class="p">):</span>
    <span class="k">return</span> <span class="n">a</span> <span class="o">*</span> <span class="n">b</span>

<span class="c1"># Functions calls are denoted by round brackets.</span>
<span class="k">print</span><span class="p">(</span><span class="n">do_stuff</span><span class="p">(</span><span class="mi">2</span><span class="p">,</span> <span class="mi">3</span><span class="p">))</span>
</pre></div>

</div>
</div>
</div>

<div class="output_wrapper">
<div class="output">


<div class="output_area">

<div class="prompt"></div>


<div class="output_subarea output_stream output_stdout output_text">
<pre>6
</pre>
</div>
</div>

</div>
</div>

</div>
<div class="cell border-box-sizing code_cell rendered">
<div class="input">
<div class="prompt input_prompt">In&nbsp;[9]:</div>
<div class="inner_cell">
    <div class="input_area">
<div class=" highlight hl-ipython2"><pre><span></span><span class="c1"># Arguments to functions can have a default value..</span>
<span class="k">def</span> <span class="nf">traveltime</span><span class="p">(</span><span class="n">distance</span><span class="p">,</span> <span class="n">speed</span><span class="o">=</span><span class="mf">80.0</span><span class="p">):</span>
    <span class="k">return</span> <span class="n">distance</span> <span class="o">/</span> <span class="n">speed</span>

<span class="c1"># If not specified otherwise, the default value is used..</span>
<span class="k">print</span><span class="p">(</span><span class="n">traveltime</span><span class="p">(</span><span class="mi">1000</span><span class="p">))</span>
</pre></div>

</div>
</div>
</div>

<div class="output_wrapper">
<div class="output">


<div class="output_area">

<div class="prompt"></div>


<div class="output_subarea output_stream output_stdout output_text">
<pre>12.5
</pre>
</div>
</div>

</div>
</div>

</div>
<div class="cell border-box-sizing text_cell rendered"><div class="prompt input_prompt">
</div>
<div class="inner_cell">
<div class="text_cell_render border-box-sizing rendered_html">
<h3 id="7.-Imports">7. Imports<a class="anchor-link" href="#7.-Imports">&#182;</a></h3><p>To use functions and objects not part of the default namespace, you have to import them. You will have to do this a lot so its worth to learn how to do it.</p>

</div>
</div>
</div>
<div class="cell border-box-sizing code_cell rendered">
<div class="input">
<div class="prompt input_prompt">In&nbsp;[10]:</div>
<div class="inner_cell">
    <div class="input_area">
<div class=" highlight hl-ipython2"><pre><span></span><span class="c1"># Import the math module, and use it&#39;s contents with the dot accessor.</span>
<span class="kn">import</span> <span class="nn">math</span>

<span class="n">a</span> <span class="o">=</span> <span class="n">math</span><span class="o">.</span><span class="n">cos</span><span class="p">(</span><span class="mi">4</span> <span class="o">*</span> <span class="n">math</span><span class="o">.</span><span class="n">pi</span><span class="p">)</span>

<span class="c1"># You can also selectively import specific things.</span>
<span class="kn">from</span> <span class="nn">math</span> <span class="kn">import</span> <span class="n">pi</span>

<span class="n">b</span> <span class="o">=</span> <span class="mf">2.0</span> <span class="o">*</span> <span class="n">pi</span>

<span class="c1"># And even rename them if you don&#39;t like their name.</span>
<span class="kn">from</span> <span class="nn">math</span> <span class="kn">import</span> <span class="n">cos</span> <span class="k">as</span> <span class="n">cosine</span>
<span class="n">c</span> <span class="o">=</span> <span class="n">cosine</span><span class="p">(</span><span class="n">b</span><span class="p">)</span>
<span class="k">print</span><span class="p">(</span><span class="n">c</span><span class="p">)</span>
</pre></div>

</div>
</div>
</div>

<div class="output_wrapper">
<div class="output">


<div class="output_area">

<div class="prompt"></div>


<div class="output_subarea output_stream output_stdout output_text">
<pre>1.0
</pre>
</div>
</div>

</div>
</div>

</div>
<div class="cell border-box-sizing text_cell rendered"><div class="prompt input_prompt">
</div>
<div class="inner_cell">
<div class="text_cell_render border-box-sizing rendered_html">
<h3 id="8.-Control-Flow">8. Control Flow<a class="anchor-link" href="#8.-Control-Flow">&#182;</a></h3><p>Loops and conditionals are needed for any non-trivial task. Please note that <strong>whitespace matters in Python</strong>. Everything that is indented at the same level is part of the same block!</p>

</div>
</div>
</div>
<div class="cell border-box-sizing code_cell rendered">
<div class="input">
<div class="prompt input_prompt">In&nbsp;[11]:</div>
<div class="inner_cell">
    <div class="input_area">
<div class=" highlight hl-ipython2"><pre><span></span><span class="n">temp</span> <span class="o">=</span> <span class="p">[</span><span class="s2">&quot;a&quot;</span><span class="p">,</span> <span class="s2">&quot;b&quot;</span><span class="p">,</span> <span class="s2">&quot;c&quot;</span><span class="p">]</span>

<span class="c1"># The typical Python loop is a for-each loop, e.g.</span>
<span class="k">for</span> <span class="n">item</span> <span class="ow">in</span> <span class="n">temp</span><span class="p">:</span>
    <span class="k">print</span><span class="p">(</span><span class="n">item</span><span class="p">)</span>
</pre></div>

</div>
</div>
</div>

<div class="output_wrapper">
<div class="output">


<div class="output_area">

<div class="prompt"></div>


<div class="output_subarea output_stream output_stdout output_text">
<pre>a
b
c
</pre>
</div>
</div>

</div>
</div>

</div>
<div class="cell border-box-sizing code_cell rendered">
<div class="input">
<div class="prompt input_prompt">In&nbsp;[12]:</div>
<div class="inner_cell">
    <div class="input_area">
<div class=" highlight hl-ipython2"><pre><span></span><span class="c1"># Useful to know is the range() function.</span>
<span class="k">for</span> <span class="n">i</span> <span class="ow">in</span> <span class="nb">range</span><span class="p">(</span><span class="mi">5</span><span class="p">):</span>
    <span class="k">print</span><span class="p">(</span><span class="n">i</span><span class="p">)</span>
</pre></div>

</div>
</div>
</div>

<div class="output_wrapper">
<div class="output">


<div class="output_area">

<div class="prompt"></div>


<div class="output_subarea output_stream output_stdout output_text">
<pre>0
1
2
3
4
</pre>
</div>
</div>

</div>
</div>

</div>
<div class="cell border-box-sizing code_cell rendered">
<div class="input">
<div class="prompt input_prompt">In&nbsp;[13]:</div>
<div class="inner_cell">
    <div class="input_area">
<div class=" highlight hl-ipython2"><pre><span></span><span class="c1"># If/else works as expected.</span>
<span class="n">age</span> <span class="o">=</span> <span class="mi">77</span>

<span class="k">if</span> <span class="n">age</span> <span class="o">&gt;=</span> <span class="mi">0</span> <span class="ow">and</span> <span class="n">age</span> <span class="o">&lt;</span> <span class="mi">10</span><span class="p">:</span>
    <span class="k">print</span><span class="p">(</span><span class="s2">&quot;Younger than ten.&quot;</span><span class="p">)</span>
<span class="k">elif</span> <span class="n">age</span> <span class="o">&gt;=</span> <span class="mi">10</span><span class="p">:</span>
    <span class="k">print</span><span class="p">(</span><span class="s2">&quot;Older than ten.&quot;</span><span class="p">)</span>
<span class="k">else</span><span class="p">:</span>
    <span class="k">print</span><span class="p">(</span><span class="s2">&quot;wait.. what??&quot;</span><span class="p">)</span>
</pre></div>

</div>
</div>
</div>

<div class="output_wrapper">
<div class="output">


<div class="output_area">

<div class="prompt"></div>


<div class="output_subarea output_stream output_stdout output_text">
<pre>Older than ten.
</pre>
</div>
</div>

</div>
</div>

</div>
<div class="cell border-box-sizing code_cell rendered">
<div class="input">
<div class="prompt input_prompt">In&nbsp;[14]:</div>
<div class="inner_cell">
    <div class="input_area">
<div class=" highlight hl-ipython2"><pre><span></span><span class="c1"># List comprehensions are a nice way to write compact loops.</span>

<span class="n">a</span> <span class="o">=</span> <span class="nb">list</span><span class="p">(</span><span class="nb">range</span><span class="p">(</span><span class="mi">10</span><span class="p">))</span>
<span class="k">print</span><span class="p">(</span><span class="n">a</span><span class="p">)</span>
<span class="n">b</span> <span class="o">=</span> <span class="p">[</span><span class="n">i</span> <span class="o">**</span> <span class="mi">2</span> <span class="k">for</span> <span class="n">i</span> <span class="ow">in</span> <span class="n">a</span><span class="p">]</span>
<span class="k">print</span><span class="p">(</span><span class="n">b</span><span class="p">)</span>

<span class="c1"># Equivalent for-loop to generate b.</span>
<span class="n">b</span> <span class="o">=</span> <span class="p">[]</span>
<span class="k">for</span> <span class="n">i</span> <span class="ow">in</span> <span class="n">a</span><span class="p">:</span>
    <span class="n">b</span><span class="o">.</span><span class="n">append</span><span class="p">(</span><span class="n">i</span> <span class="o">**</span> <span class="mi">2</span><span class="p">)</span>
<span class="k">print</span><span class="p">(</span><span class="n">b</span><span class="p">)</span>
</pre></div>

</div>
</div>
</div>

<div class="output_wrapper">
<div class="output">


<div class="output_area">

<div class="prompt"></div>


<div class="output_subarea output_stream output_stdout output_text">
<pre>[0, 1, 2, 3, 4, 5, 6, 7, 8, 9]
[0, 1, 4, 9, 16, 25, 36, 49, 64, 81]
[0, 1, 4, 9, 16, 25, 36, 49, 64, 81]
</pre>
</div>
</div>

</div>
</div>

</div>
<div class="cell border-box-sizing code_cell rendered">
<div class="input">
<div class="prompt input_prompt">In&nbsp;[15]:</div>
<div class="inner_cell">
    <div class="input_area">
<div class=" highlight hl-ipython2"><pre><span></span><span class="c1"># while-loops get executed over and over again,</span>
<span class="c1"># as long as the condition evaluates to &quot;True&quot;..</span>

<span class="n">happy</span> <span class="o">=</span> <span class="bp">False</span>
<span class="n">candies</span> <span class="o">=</span> <span class="mi">0</span>
<span class="k">print</span><span class="p">(</span><span class="n">candies</span><span class="p">)</span>

<span class="k">while</span> <span class="ow">not</span> <span class="n">happy</span><span class="p">:</span>
    <span class="n">candies</span> <span class="o">+=</span> <span class="mi">1</span>
    <span class="k">if</span> <span class="n">candies</span> <span class="o">&gt;=</span> <span class="mi">100</span><span class="p">:</span>
        <span class="n">happy</span> <span class="o">=</span> <span class="bp">True</span>

<span class="k">print</span><span class="p">(</span><span class="n">candies</span><span class="p">)</span>
</pre></div>

</div>
</div>
</div>

<div class="output_wrapper">
<div class="output">


<div class="output_area">

<div class="prompt"></div>


<div class="output_subarea output_stream output_stdout output_text">
<pre>0
100
</pre>
</div>
</div>

</div>
</div>

</div>
<div class="cell border-box-sizing text_cell rendered"><div class="prompt input_prompt">
</div>
<div class="inner_cell">
<div class="text_cell_render border-box-sizing rendered_html">
<h3 id="9.-Exceptions">9. Exceptions<a class="anchor-link" href="#9.-Exceptions">&#182;</a></h3><p>In automated processing scripts, sometimes unexpected things happen at runtime and Python stops code execution by <strong>raising an Exception</strong> (think of it as an "Error"). Sometimes we want to continue the program, nevertheless.</p>

</div>
</div>
</div>
<div class="cell border-box-sizing code_cell rendered">
<div class="input">
<div class="prompt input_prompt">In&nbsp;[&nbsp;]:</div>
<div class="inner_cell">
    <div class="input_area">
<div class=" highlight hl-ipython2"><pre><span></span><span class="k">for</span> <span class="n">earthquake</span> <span class="ow">in</span> <span class="n">my_earthquake_list</span><span class="p">:</span>
    <span class="k">try</span><span class="p">:</span>
        <span class="n">download_data</span><span class="p">(</span><span class="n">event</span><span class="p">)</span>
    <span class="k">except</span><span class="p">:</span>
        <span class="k">print</span><span class="p">(</span><span class="s2">&quot;Warning: Failed to download data for event:&quot;</span><span class="p">,</span> <span class="n">event</span><span class="p">)</span>
        <span class="k">continue</span>
</pre></div>

</div>
</div>
</div>

</div>
<div class="cell border-box-sizing text_cell rendered"><div class="prompt input_prompt">
</div>
<div class="inner_cell">
<div class="text_cell_render border-box-sizing rendered_html">
<p>But beware, just catching any type of Exception can mask errors in the code:</p>

</div>
</div>
</div>
<div class="cell border-box-sizing code_cell rendered">
<div class="input">
<div class="prompt input_prompt">In&nbsp;[&nbsp;]:</div>
<div class="inner_cell">
    <div class="input_area">
<div class=" highlight hl-ipython2"><pre><span></span><span class="k">for</span> <span class="n">earthquake</span> <span class="ow">in</span> <span class="n">my_earthquake_list</span><span class="p">:</span>
    <span class="k">try</span><span class="p">:</span>
        <span class="n">donwload_daat</span><span class="p">(</span><span class="n">event</span><span class="p">)</span>
    <span class="k">except</span><span class="p">:</span>
        <span class="k">print</span><span class="p">(</span><span class="s2">&quot;Warning: Failed to download data for event:&quot;</span><span class="p">,</span> <span class="n">event</span><span class="p">)</span>
        <span class="k">continue</span>
</pre></div>

</div>
</div>
</div>

</div>
<div class="cell border-box-sizing text_cell rendered"><div class="prompt input_prompt">
</div>
<div class="inner_cell">
<div class="text_cell_render border-box-sizing rendered_html">
<h3 id="10.-NumPy">10. NumPy<a class="anchor-link" href="#10.-NumPy">&#182;</a></h3><p>Large parts of the scientific Python ecosystem use NumPy. The heart of NumPy is the "ndarray" type (n-dimensional array, in our course usually 1-D arrays). Operations on NumPy arrays are both economical in memory use and computationally fast (internally computations are done in C).</p>

</div>
</div>
</div>
<div class="cell border-box-sizing code_cell rendered">
<div class="input">
<div class="prompt input_prompt">In&nbsp;[16]:</div>
<div class="inner_cell">
    <div class="input_area">
<div class=" highlight hl-ipython2"><pre><span></span><span class="kn">import</span> <span class="nn">numpy</span> <span class="kn">as</span> <span class="nn">np</span>

<span class="c1"># Create a large array with with 1 million samples, equally spaced from 0 to 100</span>
<span class="n">x</span> <span class="o">=</span> <span class="n">np</span><span class="o">.</span><span class="n">linspace</span><span class="p">(</span><span class="mi">0</span><span class="p">,</span> <span class="mi">100</span><span class="p">,</span> <span class="mf">1E6</span><span class="p">)</span>

<span class="c1"># Most operations work per-element.</span>
<span class="n">y</span> <span class="o">=</span> <span class="n">x</span> <span class="o">**</span> <span class="mi">2</span>

<span class="c1"># Uses C and Fortran under the hood for speed.</span>
<span class="k">print</span><span class="p">(</span><span class="n">y</span><span class="o">.</span><span class="n">sum</span><span class="p">())</span>
</pre></div>

</div>
</div>
</div>

<div class="output_wrapper">
<div class="output">


<div class="output_area">

<div class="prompt"></div>


<div class="output_subarea output_stream output_stdout output_text">
<pre>3333335000.0
</pre>
</div>
</div>

</div>
</div>

</div>
<div class="cell border-box-sizing text_cell rendered"><div class="prompt input_prompt">
</div>
<div class="inner_cell">
<div class="text_cell_render border-box-sizing rendered_html">
<h3 id="11.-Plotting">11. Plotting<a class="anchor-link" href="#11.-Plotting">&#182;</a></h3><p>Plotting is (most often) done using matplotlib. It has an interface that essentially works like Matlab.</p>

</div>
</div>
</div>
<div class="cell border-box-sizing code_cell rendered">
<div class="input">
<div class="prompt input_prompt">In&nbsp;[17]:</div>
<div class="inner_cell">
    <div class="input_area">
<div class=" highlight hl-ipython2"><pre><span></span><span class="kn">import</span> <span class="nn">matplotlib.pyplot</span> <span class="kn">as</span> <span class="nn">plt</span>

<span class="n">x</span> <span class="o">=</span> <span class="n">np</span><span class="o">.</span><span class="n">linspace</span><span class="p">(</span><span class="mi">0</span><span class="p">,</span> <span class="mi">2</span> <span class="o">*</span> <span class="n">np</span><span class="o">.</span><span class="n">pi</span><span class="p">,</span> <span class="mi">2000</span><span class="p">)</span>
<span class="n">y</span> <span class="o">=</span> <span class="n">np</span><span class="o">.</span><span class="n">sin</span><span class="p">(</span><span class="n">x</span><span class="p">)</span>

<span class="n">plt</span><span class="o">.</span><span class="n">plot</span><span class="p">(</span><span class="n">x</span><span class="p">,</span> <span class="n">y</span><span class="p">,</span> <span class="n">color</span><span class="o">=</span><span class="s2">&quot;green&quot;</span><span class="p">,</span> <span class="n">label</span><span class="o">=</span><span class="s2">&quot;sine wave&quot;</span><span class="p">)</span>
<span class="n">plt</span><span class="o">.</span><span class="n">legend</span><span class="p">()</span>
<span class="n">plt</span><span class="o">.</span><span class="n">ylim</span><span class="p">(</span><span class="o">-</span><span class="mf">1.1</span><span class="p">,</span> <span class="mf">1.1</span><span class="p">)</span>
<span class="n">plt</span><span class="o">.</span><span class="n">show</span><span class="p">()</span>
</pre></div>

</div>
</div>
</div>

<div class="output_wrapper">
<div class="output">


<div class="output_area">

<div class="prompt"></div>




<div class="output_png output_subarea ">
<img src="data:image/png;base64,iVBORw0KGgoAAAANSUhEUgAAAswAAAHeCAYAAACPJ10XAAAABHNCSVQICAgIfAhkiAAAAAlwSFlz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=
"
>
</div>

</div>

</div>
</div>

</div>
<div class="cell border-box-sizing text_cell rendered"><div class="prompt input_prompt">
</div>
<div class="inner_cell">
<div class="text_cell_render border-box-sizing rendered_html">
<h2 id="Exercises">Exercises<a class="anchor-link" href="#Exercises">&#182;</a></h2><h4 id="Functions,-NumPy,-and-Matplotlib">Functions, NumPy, and Matplotlib<a class="anchor-link" href="#Functions,-NumPy,-and-Matplotlib">&#182;</a></h4><p>a) Write a function that takes a NumPy array <code>x</code> and three float values <code>a</code>, <code>b</code>, and <code>c</code> as arguments and returns</p>
<p>$$
f(x) = a x^2 + b x + c
$$</p>
<p>b) Use the function and plot its graph using matplotlib, for an arbitrary choice of parameters for x values between -3 and +3.</p>

</div>
</div>
</div>
<div class="cell border-box-sizing code_cell rendered">
<div class="input">
<div class="prompt input_prompt">In&nbsp;[18]:</div>
<div class="inner_cell">
    <div class="input_area">
<div class=" highlight hl-ipython2"><pre><span></span><span class="k">def</span> <span class="nf">f</span><span class="p">(</span><span class="n">x</span><span class="p">,</span> <span class="n">a</span><span class="p">,</span> <span class="n">b</span><span class="p">,</span> <span class="n">c</span><span class="p">):</span>
    <span class="k">return</span> <span class="n">a</span> <span class="o">*</span> <span class="n">x</span> <span class="o">**</span> <span class="mi">2</span> <span class="o">+</span> <span class="n">b</span> <span class="o">*</span> <span class="n">x</span> <span class="o">+</span> <span class="n">c</span>

<span class="n">x</span> <span class="o">=</span> <span class="n">np</span><span class="o">.</span><span class="n">linspace</span><span class="p">(</span><span class="o">-</span><span class="mi">3</span><span class="p">,</span> <span class="mi">3</span><span class="p">,</span> <span class="mi">100</span><span class="p">)</span>
<span class="n">y</span> <span class="o">=</span> <span class="n">f</span><span class="p">(</span><span class="n">x</span><span class="p">,</span> <span class="o">-</span><span class="mi">3</span><span class="p">,</span> <span class="mi">10</span><span class="p">,</span> <span class="mi">1</span><span class="p">)</span>
<span class="n">plt</span><span class="o">.</span><span class="n">plot</span><span class="p">(</span><span class="n">x</span><span class="p">,</span> <span class="n">y</span><span class="p">)</span>
<span class="n">plt</span><span class="o">.</span><span class="n">show</span><span class="p">()</span>
</pre></div>

</div>
</div>
</div>

<div class="output_wrapper">
<div class="output">


<div class="output_area">

<div class="prompt"></div>




<div class="output_png output_subarea ">
<img src="data:image/png;base64,iVBORw0KGgoAAAANSUhEUgAAAskAAAHjCAYAAADR6oIgAAAABHNCSVQICAgIfAhkiAAAAAlwSFlz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"
>
</div>

</div>

</div>
</div>

</div>
<div class="cell border-box-sizing text_cell rendered"><div class="prompt input_prompt">
</div>
<div class="inner_cell">
<div class="text_cell_render border-box-sizing rendered_html">
<h4 id="99-Bottles-of-Beer">99 Bottles of Beer<a class="anchor-link" href="#99-Bottles-of-Beer">&#182;</a></h4><p><em>(stolen from <a href="http://www.ling.gu.se/~lager/python_exercises.html">http://www.ling.gu.se/~lager/python_exercises.html</a>)</em></p>
<p>"99 Bottles of Beer" is a traditional song in the United States and Canada. It is popular to sing on long trips, as it has a very repetitive format which is easy to memorize, and can take a long time to sing. The song's simple lyrics are as follows:</p>

<pre><code>99 bottles of beer on the wall, 99 bottles of beer.
Take one down, pass it around, 98 bottles of beer on the wall.</code></pre>
<p>The same verse is repeated, each time with one fewer bottle. The song is completed when the singer or singers reach zero.</p>
<p>Your task here is to write a Python program capable of generating all the verses of the song.</p>

</div>
</div>
</div>
<div class="cell border-box-sizing code_cell rendered">
<div class="input">
<div class="prompt input_prompt">In&nbsp;[19]:</div>
<div class="inner_cell">
    <div class="input_area">
<div class=" highlight hl-ipython2"><pre><span></span><span class="n">current</span> <span class="o">=</span> <span class="mi">99</span>

<span class="n">line1</span> <span class="o">=</span> <span class="s2">&quot;{} bottles of beer on the wall, {} bottles of beer.&quot;</span>
<span class="n">line2</span> <span class="o">=</span> <span class="s2">&quot;Take one down, pass it around, {} bottles of beer on the wall.&quot;</span>

<span class="k">while</span> <span class="n">current</span> <span class="o">&gt;</span> <span class="mi">0</span><span class="p">:</span>
    <span class="k">print</span><span class="p">(</span><span class="n">line1</span><span class="o">.</span><span class="n">format</span><span class="p">(</span><span class="n">current</span><span class="p">,</span> <span class="n">current</span><span class="p">))</span>
    <span class="k">print</span><span class="p">(</span><span class="n">line2</span><span class="o">.</span><span class="n">format</span><span class="p">(</span><span class="n">current</span> <span class="o">-</span> <span class="mi">1</span><span class="p">))</span>
    <span class="n">current</span> <span class="o">=</span> <span class="n">current</span> <span class="o">-</span> <span class="mi">1</span>
</pre></div>

</div>
</div>
</div>

<div class="output_wrapper">
<div class="output">


<div class="output_area">

<div class="prompt"></div>


<div class="output_subarea output_stream output_stdout output_text">
<pre>99 bottles of beer on the wall, 99 bottles of beer.
Take one down, pass it around, 98 bottles of beer on the wall.
98 bottles of beer on the wall, 98 bottles of beer.
Take one down, pass it around, 97 bottles of beer on the wall.
97 bottles of beer on the wall, 97 bottles of beer.
Take one down, pass it around, 96 bottles of beer on the wall.
96 bottles of beer on the wall, 96 bottles of beer.
Take one down, pass it around, 95 bottles of beer on the wall.
95 bottles of beer on the wall, 95 bottles of beer.
Take one down, pass it around, 94 bottles of beer on the wall.
94 bottles of beer on the wall, 94 bottles of beer.
Take one down, pass it around, 93 bottles of beer on the wall.
93 bottles of beer on the wall, 93 bottles of beer.
Take one down, pass it around, 92 bottles of beer on the wall.
92 bottles of beer on the wall, 92 bottles of beer.
Take one down, pass it around, 91 bottles of beer on the wall.
91 bottles of beer on the wall, 91 bottles of beer.
Take one down, pass it around, 90 bottles of beer on the wall.
90 bottles of beer on the wall, 90 bottles of beer.
Take one down, pass it around, 89 bottles of beer on the wall.
89 bottles of beer on the wall, 89 bottles of beer.
Take one down, pass it around, 88 bottles of beer on the wall.
88 bottles of beer on the wall, 88 bottles of beer.
Take one down, pass it around, 87 bottles of beer on the wall.
87 bottles of beer on the wall, 87 bottles of beer.
Take one down, pass it around, 86 bottles of beer on the wall.
86 bottles of beer on the wall, 86 bottles of beer.
Take one down, pass it around, 85 bottles of beer on the wall.
85 bottles of beer on the wall, 85 bottles of beer.
Take one down, pass it around, 84 bottles of beer on the wall.
84 bottles of beer on the wall, 84 bottles of beer.
Take one down, pass it around, 83 bottles of beer on the wall.
83 bottles of beer on the wall, 83 bottles of beer.
Take one down, pass it around, 82 bottles of beer on the wall.
82 bottles of beer on the wall, 82 bottles of beer.
Take one down, pass it around, 81 bottles of beer on the wall.
81 bottles of beer on the wall, 81 bottles of beer.
Take one down, pass it around, 80 bottles of beer on the wall.
80 bottles of beer on the wall, 80 bottles of beer.
Take one down, pass it around, 79 bottles of beer on the wall.
79 bottles of beer on the wall, 79 bottles of beer.
Take one down, pass it around, 78 bottles of beer on the wall.
78 bottles of beer on the wall, 78 bottles of beer.
Take one down, pass it around, 77 bottles of beer on the wall.
77 bottles of beer on the wall, 77 bottles of beer.
Take one down, pass it around, 76 bottles of beer on the wall.
76 bottles of beer on the wall, 76 bottles of beer.
Take one down, pass it around, 75 bottles of beer on the wall.
75 bottles of beer on the wall, 75 bottles of beer.
Take one down, pass it around, 74 bottles of beer on the wall.
74 bottles of beer on the wall, 74 bottles of beer.
Take one down, pass it around, 73 bottles of beer on the wall.
73 bottles of beer on the wall, 73 bottles of beer.
Take one down, pass it around, 72 bottles of beer on the wall.
72 bottles of beer on the wall, 72 bottles of beer.
Take one down, pass it around, 71 bottles of beer on the wall.
71 bottles of beer on the wall, 71 bottles of beer.
Take one down, pass it around, 70 bottles of beer on the wall.
70 bottles of beer on the wall, 70 bottles of beer.
Take one down, pass it around, 69 bottles of beer on the wall.
69 bottles of beer on the wall, 69 bottles of beer.
Take one down, pass it around, 68 bottles of beer on the wall.
68 bottles of beer on the wall, 68 bottles of beer.
Take one down, pass it around, 67 bottles of beer on the wall.
67 bottles of beer on the wall, 67 bottles of beer.
Take one down, pass it around, 66 bottles of beer on the wall.
66 bottles of beer on the wall, 66 bottles of beer.
Take one down, pass it around, 65 bottles of beer on the wall.
65 bottles of beer on the wall, 65 bottles of beer.
Take one down, pass it around, 64 bottles of beer on the wall.
64 bottles of beer on the wall, 64 bottles of beer.
Take one down, pass it around, 63 bottles of beer on the wall.
63 bottles of beer on the wall, 63 bottles of beer.
Take one down, pass it around, 62 bottles of beer on the wall.
62 bottles of beer on the wall, 62 bottles of beer.
Take one down, pass it around, 61 bottles of beer on the wall.
61 bottles of beer on the wall, 61 bottles of beer.
Take one down, pass it around, 60 bottles of beer on the wall.
60 bottles of beer on the wall, 60 bottles of beer.
Take one down, pass it around, 59 bottles of beer on the wall.
59 bottles of beer on the wall, 59 bottles of beer.
Take one down, pass it around, 58 bottles of beer on the wall.
58 bottles of beer on the wall, 58 bottles of beer.
Take one down, pass it around, 57 bottles of beer on the wall.
57 bottles of beer on the wall, 57 bottles of beer.
Take one down, pass it around, 56 bottles of beer on the wall.
56 bottles of beer on the wall, 56 bottles of beer.
Take one down, pass it around, 55 bottles of beer on the wall.
55 bottles of beer on the wall, 55 bottles of beer.
Take one down, pass it around, 54 bottles of beer on the wall.
54 bottles of beer on the wall, 54 bottles of beer.
Take one down, pass it around, 53 bottles of beer on the wall.
53 bottles of beer on the wall, 53 bottles of beer.
Take one down, pass it around, 52 bottles of beer on the wall.
52 bottles of beer on the wall, 52 bottles of beer.
Take one down, pass it around, 51 bottles of beer on the wall.
51 bottles of beer on the wall, 51 bottles of beer.
Take one down, pass it around, 50 bottles of beer on the wall.
50 bottles of beer on the wall, 50 bottles of beer.
Take one down, pass it around, 49 bottles of beer on the wall.
49 bottles of beer on the wall, 49 bottles of beer.
Take one down, pass it around, 48 bottles of beer on the wall.
48 bottles of beer on the wall, 48 bottles of beer.
Take one down, pass it around, 47 bottles of beer on the wall.
47 bottles of beer on the wall, 47 bottles of beer.
Take one down, pass it around, 46 bottles of beer on the wall.
46 bottles of beer on the wall, 46 bottles of beer.
Take one down, pass it around, 45 bottles of beer on the wall.
45 bottles of beer on the wall, 45 bottles of beer.
Take one down, pass it around, 44 bottles of beer on the wall.
44 bottles of beer on the wall, 44 bottles of beer.
Take one down, pass it around, 43 bottles of beer on the wall.
43 bottles of beer on the wall, 43 bottles of beer.
Take one down, pass it around, 42 bottles of beer on the wall.
42 bottles of beer on the wall, 42 bottles of beer.
Take one down, pass it around, 41 bottles of beer on the wall.
41 bottles of beer on the wall, 41 bottles of beer.
Take one down, pass it around, 40 bottles of beer on the wall.
40 bottles of beer on the wall, 40 bottles of beer.
Take one down, pass it around, 39 bottles of beer on the wall.
39 bottles of beer on the wall, 39 bottles of beer.
Take one down, pass it around, 38 bottles of beer on the wall.
38 bottles of beer on the wall, 38 bottles of beer.
Take one down, pass it around, 37 bottles of beer on the wall.
37 bottles of beer on the wall, 37 bottles of beer.
Take one down, pass it around, 36 bottles of beer on the wall.
36 bottles of beer on the wall, 36 bottles of beer.
Take one down, pass it around, 35 bottles of beer on the wall.
35 bottles of beer on the wall, 35 bottles of beer.
Take one down, pass it around, 34 bottles of beer on the wall.
34 bottles of beer on the wall, 34 bottles of beer.
Take one down, pass it around, 33 bottles of beer on the wall.
33 bottles of beer on the wall, 33 bottles of beer.
Take one down, pass it around, 32 bottles of beer on the wall.
32 bottles of beer on the wall, 32 bottles of beer.
Take one down, pass it around, 31 bottles of beer on the wall.
31 bottles of beer on the wall, 31 bottles of beer.
Take one down, pass it around, 30 bottles of beer on the wall.
30 bottles of beer on the wall, 30 bottles of beer.
Take one down, pass it around, 29 bottles of beer on the wall.
29 bottles of beer on the wall, 29 bottles of beer.
Take one down, pass it around, 28 bottles of beer on the wall.
28 bottles of beer on the wall, 28 bottles of beer.
Take one down, pass it around, 27 bottles of beer on the wall.
27 bottles of beer on the wall, 27 bottles of beer.
Take one down, pass it around, 26 bottles of beer on the wall.
26 bottles of beer on the wall, 26 bottles of beer.
Take one down, pass it around, 25 bottles of beer on the wall.
25 bottles of beer on the wall, 25 bottles of beer.
Take one down, pass it around, 24 bottles of beer on the wall.
24 bottles of beer on the wall, 24 bottles of beer.
Take one down, pass it around, 23 bottles of beer on the wall.
23 bottles of beer on the wall, 23 bottles of beer.
Take one down, pass it around, 22 bottles of beer on the wall.
22 bottles of beer on the wall, 22 bottles of beer.
Take one down, pass it around, 21 bottles of beer on the wall.
21 bottles of beer on the wall, 21 bottles of beer.
Take one down, pass it around, 20 bottles of beer on the wall.
20 bottles of beer on the wall, 20 bottles of beer.
Take one down, pass it around, 19 bottles of beer on the wall.
19 bottles of beer on the wall, 19 bottles of beer.
Take one down, pass it around, 18 bottles of beer on the wall.
18 bottles of beer on the wall, 18 bottles of beer.
Take one down, pass it around, 17 bottles of beer on the wall.
17 bottles of beer on the wall, 17 bottles of beer.
Take one down, pass it around, 16 bottles of beer on the wall.
16 bottles of beer on the wall, 16 bottles of beer.
Take one down, pass it around, 15 bottles of beer on the wall.
15 bottles of beer on the wall, 15 bottles of beer.
Take one down, pass it around, 14 bottles of beer on the wall.
14 bottles of beer on the wall, 14 bottles of beer.
Take one down, pass it around, 13 bottles of beer on the wall.
13 bottles of beer on the wall, 13 bottles of beer.
Take one down, pass it around, 12 bottles of beer on the wall.
12 bottles of beer on the wall, 12 bottles of beer.
Take one down, pass it around, 11 bottles of beer on the wall.
11 bottles of beer on the wall, 11 bottles of beer.
Take one down, pass it around, 10 bottles of beer on the wall.
10 bottles of beer on the wall, 10 bottles of beer.
Take one down, pass it around, 9 bottles of beer on the wall.
9 bottles of beer on the wall, 9 bottles of beer.
Take one down, pass it around, 8 bottles of beer on the wall.
8 bottles of beer on the wall, 8 bottles of beer.
Take one down, pass it around, 7 bottles of beer on the wall.
7 bottles of beer on the wall, 7 bottles of beer.
Take one down, pass it around, 6 bottles of beer on the wall.
6 bottles of beer on the wall, 6 bottles of beer.
Take one down, pass it around, 5 bottles of beer on the wall.
5 bottles of beer on the wall, 5 bottles of beer.
Take one down, pass it around, 4 bottles of beer on the wall.
4 bottles of beer on the wall, 4 bottles of beer.
Take one down, pass it around, 3 bottles of beer on the wall.
3 bottles of beer on the wall, 3 bottles of beer.
Take one down, pass it around, 2 bottles of beer on the wall.
2 bottles of beer on the wall, 2 bottles of beer.
Take one down, pass it around, 1 bottles of beer on the wall.
1 bottles of beer on the wall, 1 bottles of beer.
Take one down, pass it around, 0 bottles of beer on the wall.
</pre>
</div>
</div>

</div>
</div>

</div>
<div class="cell border-box-sizing text_cell rendered"><div class="prompt input_prompt">
</div>
<div class="inner_cell">
<div class="text_cell_render border-box-sizing rendered_html">
<h4 id="Caesar-Cipher">Caesar Cipher<a class="anchor-link" href="#Caesar-Cipher">&#182;</a></h4><p><em>(stolen from <a href="http://www.ling.gu.se/~lager/python_exercises.html">http://www.ling.gu.se/~lager/python_exercises.html</a>)</em></p>
<p>In cryptography, a Caesar cipher is a very simple encryption techniques in which each letter in the plain text is replaced by a letter some fixed number of positions down the alphabet. For example, with a shift of 3, A would be replaced by D, B would become E, and so on. The method is named after Julius Caesar, who used it to communicate with his generals. ROT-13 ("rotate by 13 places") is a widely used example of a Caesar cipher where the shift is 13. In Python, the key for ROT-13 may be represented by means of the following dictionary:</p>
<div class="highlight"><pre><span></span><span class="n">key</span> <span class="o">=</span> <span class="p">{</span><span class="s1">&#39;a&#39;</span><span class="p">:</span><span class="s1">&#39;n&#39;</span><span class="p">,</span> <span class="s1">&#39;b&#39;</span><span class="p">:</span><span class="s1">&#39;o&#39;</span><span class="p">,</span> <span class="s1">&#39;c&#39;</span><span class="p">:</span><span class="s1">&#39;p&#39;</span><span class="p">,</span> <span class="s1">&#39;d&#39;</span><span class="p">:</span><span class="s1">&#39;q&#39;</span><span class="p">,</span> <span class="s1">&#39;e&#39;</span><span class="p">:</span><span class="s1">&#39;r&#39;</span><span class="p">,</span> <span class="s1">&#39;f&#39;</span><span class="p">:</span><span class="s1">&#39;s&#39;</span><span class="p">,</span> <span class="s1">&#39;g&#39;</span><span class="p">:</span><span class="s1">&#39;t&#39;</span><span class="p">,</span> <span class="s1">&#39;h&#39;</span><span class="p">:</span><span class="s1">&#39;u&#39;</span><span class="p">,</span> 
       <span class="s1">&#39;i&#39;</span><span class="p">:</span><span class="s1">&#39;v&#39;</span><span class="p">,</span> <span class="s1">&#39;j&#39;</span><span class="p">:</span><span class="s1">&#39;w&#39;</span><span class="p">,</span> <span class="s1">&#39;k&#39;</span><span class="p">:</span><span class="s1">&#39;x&#39;</span><span class="p">,</span> <span class="s1">&#39;l&#39;</span><span class="p">:</span><span class="s1">&#39;y&#39;</span><span class="p">,</span> <span class="s1">&#39;m&#39;</span><span class="p">:</span><span class="s1">&#39;z&#39;</span><span class="p">,</span> <span class="s1">&#39;n&#39;</span><span class="p">:</span><span class="s1">&#39;a&#39;</span><span class="p">,</span> <span class="s1">&#39;o&#39;</span><span class="p">:</span><span class="s1">&#39;b&#39;</span><span class="p">,</span> <span class="s1">&#39;p&#39;</span><span class="p">:</span><span class="s1">&#39;c&#39;</span><span class="p">,</span> 
       <span class="s1">&#39;q&#39;</span><span class="p">:</span><span class="s1">&#39;d&#39;</span><span class="p">,</span> <span class="s1">&#39;r&#39;</span><span class="p">:</span><span class="s1">&#39;e&#39;</span><span class="p">,</span> <span class="s1">&#39;s&#39;</span><span class="p">:</span><span class="s1">&#39;f&#39;</span><span class="p">,</span> <span class="s1">&#39;t&#39;</span><span class="p">:</span><span class="s1">&#39;g&#39;</span><span class="p">,</span> <span class="s1">&#39;u&#39;</span><span class="p">:</span><span class="s1">&#39;h&#39;</span><span class="p">,</span> <span class="s1">&#39;v&#39;</span><span class="p">:</span><span class="s1">&#39;i&#39;</span><span class="p">,</span> <span class="s1">&#39;w&#39;</span><span class="p">:</span><span class="s1">&#39;j&#39;</span><span class="p">,</span> <span class="s1">&#39;x&#39;</span><span class="p">:</span><span class="s1">&#39;k&#39;</span><span class="p">,</span>
       <span class="s1">&#39;y&#39;</span><span class="p">:</span><span class="s1">&#39;l&#39;</span><span class="p">,</span> <span class="s1">&#39;z&#39;</span><span class="p">:</span><span class="s1">&#39;m&#39;</span><span class="p">,</span> <span class="s1">&#39;A&#39;</span><span class="p">:</span><span class="s1">&#39;N&#39;</span><span class="p">,</span> <span class="s1">&#39;B&#39;</span><span class="p">:</span><span class="s1">&#39;O&#39;</span><span class="p">,</span> <span class="s1">&#39;C&#39;</span><span class="p">:</span><span class="s1">&#39;P&#39;</span><span class="p">,</span> <span class="s1">&#39;D&#39;</span><span class="p">:</span><span class="s1">&#39;Q&#39;</span><span class="p">,</span> <span class="s1">&#39;E&#39;</span><span class="p">:</span><span class="s1">&#39;R&#39;</span><span class="p">,</span> <span class="s1">&#39;F&#39;</span><span class="p">:</span><span class="s1">&#39;S&#39;</span><span class="p">,</span> 
       <span class="s1">&#39;G&#39;</span><span class="p">:</span><span class="s1">&#39;T&#39;</span><span class="p">,</span> <span class="s1">&#39;H&#39;</span><span class="p">:</span><span class="s1">&#39;U&#39;</span><span class="p">,</span> <span class="s1">&#39;I&#39;</span><span class="p">:</span><span class="s1">&#39;V&#39;</span><span class="p">,</span> <span class="s1">&#39;J&#39;</span><span class="p">:</span><span class="s1">&#39;W&#39;</span><span class="p">,</span> <span class="s1">&#39;K&#39;</span><span class="p">:</span><span class="s1">&#39;X&#39;</span><span class="p">,</span> <span class="s1">&#39;L&#39;</span><span class="p">:</span><span class="s1">&#39;Y&#39;</span><span class="p">,</span> <span class="s1">&#39;M&#39;</span><span class="p">:</span><span class="s1">&#39;Z&#39;</span><span class="p">,</span> <span class="s1">&#39;N&#39;</span><span class="p">:</span><span class="s1">&#39;A&#39;</span><span class="p">,</span> 
       <span class="s1">&#39;O&#39;</span><span class="p">:</span><span class="s1">&#39;B&#39;</span><span class="p">,</span> <span class="s1">&#39;P&#39;</span><span class="p">:</span><span class="s1">&#39;C&#39;</span><span class="p">,</span> <span class="s1">&#39;Q&#39;</span><span class="p">:</span><span class="s1">&#39;D&#39;</span><span class="p">,</span> <span class="s1">&#39;R&#39;</span><span class="p">:</span><span class="s1">&#39;E&#39;</span><span class="p">,</span> <span class="s1">&#39;S&#39;</span><span class="p">:</span><span class="s1">&#39;F&#39;</span><span class="p">,</span> <span class="s1">&#39;T&#39;</span><span class="p">:</span><span class="s1">&#39;G&#39;</span><span class="p">,</span> <span class="s1">&#39;U&#39;</span><span class="p">:</span><span class="s1">&#39;H&#39;</span><span class="p">,</span> <span class="s1">&#39;V&#39;</span><span class="p">:</span><span class="s1">&#39;I&#39;</span><span class="p">,</span> 
       <span class="s1">&#39;W&#39;</span><span class="p">:</span><span class="s1">&#39;J&#39;</span><span class="p">,</span> <span class="s1">&#39;X&#39;</span><span class="p">:</span><span class="s1">&#39;K&#39;</span><span class="p">,</span> <span class="s1">&#39;Y&#39;</span><span class="p">:</span><span class="s1">&#39;L&#39;</span><span class="p">,</span> <span class="s1">&#39;Z&#39;</span><span class="p">:</span><span class="s1">&#39;M&#39;</span><span class="p">}</span>
</pre></div>
<p>Your task in this exercise is to implement an decoder of ROT-13. Once you're done, you will be able to read the following secret message:</p>

<pre><code>Pnrfne pvcure? V zhpu cersre Pnrfne fnynq!</code></pre>
<p><strong>BONUS:</strong> Write an encoder!</p>

</div>
</div>
</div>
<div class="cell border-box-sizing code_cell rendered">
<div class="input">
<div class="prompt input_prompt">In&nbsp;[20]:</div>
<div class="inner_cell">
    <div class="input_area">
<div class=" highlight hl-ipython2"><pre><span></span><span class="n">key</span> <span class="o">=</span> <span class="p">{</span><span class="s1">&#39;a&#39;</span><span class="p">:</span><span class="s1">&#39;n&#39;</span><span class="p">,</span> <span class="s1">&#39;b&#39;</span><span class="p">:</span><span class="s1">&#39;o&#39;</span><span class="p">,</span> <span class="s1">&#39;c&#39;</span><span class="p">:</span><span class="s1">&#39;p&#39;</span><span class="p">,</span> <span class="s1">&#39;d&#39;</span><span class="p">:</span><span class="s1">&#39;q&#39;</span><span class="p">,</span> <span class="s1">&#39;e&#39;</span><span class="p">:</span><span class="s1">&#39;r&#39;</span><span class="p">,</span> <span class="s1">&#39;f&#39;</span><span class="p">:</span><span class="s1">&#39;s&#39;</span><span class="p">,</span> <span class="s1">&#39;g&#39;</span><span class="p">:</span><span class="s1">&#39;t&#39;</span><span class="p">,</span> <span class="s1">&#39;h&#39;</span><span class="p">:</span><span class="s1">&#39;u&#39;</span><span class="p">,</span> 
       <span class="s1">&#39;i&#39;</span><span class="p">:</span><span class="s1">&#39;v&#39;</span><span class="p">,</span> <span class="s1">&#39;j&#39;</span><span class="p">:</span><span class="s1">&#39;w&#39;</span><span class="p">,</span> <span class="s1">&#39;k&#39;</span><span class="p">:</span><span class="s1">&#39;x&#39;</span><span class="p">,</span> <span class="s1">&#39;l&#39;</span><span class="p">:</span><span class="s1">&#39;y&#39;</span><span class="p">,</span> <span class="s1">&#39;m&#39;</span><span class="p">:</span><span class="s1">&#39;z&#39;</span><span class="p">,</span> <span class="s1">&#39;n&#39;</span><span class="p">:</span><span class="s1">&#39;a&#39;</span><span class="p">,</span> <span class="s1">&#39;o&#39;</span><span class="p">:</span><span class="s1">&#39;b&#39;</span><span class="p">,</span> <span class="s1">&#39;p&#39;</span><span class="p">:</span><span class="s1">&#39;c&#39;</span><span class="p">,</span> 
       <span class="s1">&#39;q&#39;</span><span class="p">:</span><span class="s1">&#39;d&#39;</span><span class="p">,</span> <span class="s1">&#39;r&#39;</span><span class="p">:</span><span class="s1">&#39;e&#39;</span><span class="p">,</span> <span class="s1">&#39;s&#39;</span><span class="p">:</span><span class="s1">&#39;f&#39;</span><span class="p">,</span> <span class="s1">&#39;t&#39;</span><span class="p">:</span><span class="s1">&#39;g&#39;</span><span class="p">,</span> <span class="s1">&#39;u&#39;</span><span class="p">:</span><span class="s1">&#39;h&#39;</span><span class="p">,</span> <span class="s1">&#39;v&#39;</span><span class="p">:</span><span class="s1">&#39;i&#39;</span><span class="p">,</span> <span class="s1">&#39;w&#39;</span><span class="p">:</span><span class="s1">&#39;j&#39;</span><span class="p">,</span> <span class="s1">&#39;x&#39;</span><span class="p">:</span><span class="s1">&#39;k&#39;</span><span class="p">,</span>
       <span class="s1">&#39;y&#39;</span><span class="p">:</span><span class="s1">&#39;l&#39;</span><span class="p">,</span> <span class="s1">&#39;z&#39;</span><span class="p">:</span><span class="s1">&#39;m&#39;</span><span class="p">,</span> <span class="s1">&#39;A&#39;</span><span class="p">:</span><span class="s1">&#39;N&#39;</span><span class="p">,</span> <span class="s1">&#39;B&#39;</span><span class="p">:</span><span class="s1">&#39;O&#39;</span><span class="p">,</span> <span class="s1">&#39;C&#39;</span><span class="p">:</span><span class="s1">&#39;P&#39;</span><span class="p">,</span> <span class="s1">&#39;D&#39;</span><span class="p">:</span><span class="s1">&#39;Q&#39;</span><span class="p">,</span> <span class="s1">&#39;E&#39;</span><span class="p">:</span><span class="s1">&#39;R&#39;</span><span class="p">,</span> <span class="s1">&#39;F&#39;</span><span class="p">:</span><span class="s1">&#39;S&#39;</span><span class="p">,</span> 
       <span class="s1">&#39;G&#39;</span><span class="p">:</span><span class="s1">&#39;T&#39;</span><span class="p">,</span> <span class="s1">&#39;H&#39;</span><span class="p">:</span><span class="s1">&#39;U&#39;</span><span class="p">,</span> <span class="s1">&#39;I&#39;</span><span class="p">:</span><span class="s1">&#39;V&#39;</span><span class="p">,</span> <span class="s1">&#39;J&#39;</span><span class="p">:</span><span class="s1">&#39;W&#39;</span><span class="p">,</span> <span class="s1">&#39;K&#39;</span><span class="p">:</span><span class="s1">&#39;X&#39;</span><span class="p">,</span> <span class="s1">&#39;L&#39;</span><span class="p">:</span><span class="s1">&#39;Y&#39;</span><span class="p">,</span> <span class="s1">&#39;M&#39;</span><span class="p">:</span><span class="s1">&#39;Z&#39;</span><span class="p">,</span> <span class="s1">&#39;N&#39;</span><span class="p">:</span><span class="s1">&#39;A&#39;</span><span class="p">,</span> 
       <span class="s1">&#39;O&#39;</span><span class="p">:</span><span class="s1">&#39;B&#39;</span><span class="p">,</span> <span class="s1">&#39;P&#39;</span><span class="p">:</span><span class="s1">&#39;C&#39;</span><span class="p">,</span> <span class="s1">&#39;Q&#39;</span><span class="p">:</span><span class="s1">&#39;D&#39;</span><span class="p">,</span> <span class="s1">&#39;R&#39;</span><span class="p">:</span><span class="s1">&#39;E&#39;</span><span class="p">,</span> <span class="s1">&#39;S&#39;</span><span class="p">:</span><span class="s1">&#39;F&#39;</span><span class="p">,</span> <span class="s1">&#39;T&#39;</span><span class="p">:</span><span class="s1">&#39;G&#39;</span><span class="p">,</span> <span class="s1">&#39;U&#39;</span><span class="p">:</span><span class="s1">&#39;H&#39;</span><span class="p">,</span> <span class="s1">&#39;V&#39;</span><span class="p">:</span><span class="s1">&#39;I&#39;</span><span class="p">,</span> 
       <span class="s1">&#39;W&#39;</span><span class="p">:</span><span class="s1">&#39;J&#39;</span><span class="p">,</span> <span class="s1">&#39;X&#39;</span><span class="p">:</span><span class="s1">&#39;K&#39;</span><span class="p">,</span> <span class="s1">&#39;Y&#39;</span><span class="p">:</span><span class="s1">&#39;L&#39;</span><span class="p">,</span> <span class="s1">&#39;Z&#39;</span><span class="p">:</span><span class="s1">&#39;M&#39;</span><span class="p">}</span>

<span class="n">message</span> <span class="o">=</span> <span class="s2">&quot;Pnrfne pvcure? V zhpu cersre Pnrfne fnynq!&quot;</span>

<span class="k">def</span> <span class="nf">decode</span><span class="p">(</span><span class="n">some_string</span><span class="p">):</span>
    <span class="n">out</span> <span class="o">=</span> <span class="s2">&quot;&quot;</span>
    <span class="k">for</span> <span class="n">char</span> <span class="ow">in</span> <span class="n">some_string</span><span class="p">:</span>
        <span class="n">replacement</span> <span class="o">=</span> <span class="n">key</span><span class="o">.</span><span class="n">get</span><span class="p">(</span><span class="n">char</span><span class="p">,</span> <span class="n">char</span><span class="p">)</span>
        <span class="n">out</span> <span class="o">=</span> <span class="n">out</span> <span class="o">+</span> <span class="n">replacement</span>
    <span class="k">return</span> <span class="n">out</span>

<span class="k">print</span><span class="p">(</span><span class="n">decode</span><span class="p">(</span><span class="n">message</span><span class="p">))</span>
</pre></div>

</div>
</div>
</div>

<div class="output_wrapper">
<div class="output">


<div class="output_area">

<div class="prompt"></div>


<div class="output_subarea output_stream output_stdout output_text">
<pre>Caesar cipher? I much prefer Caesar salad!
</pre>
</div>
</div>

</div>
</div>

</div>
 


    </div>
  </div>

  </div>


  
    <footer class="footer hidden-print">
      <div class="container">
        <div class="col-md-4">
          <p>
            This website does not host notebooks, it only renders notebooks
            available on other websites.
          </p>
        </div>

        <div class="col-md-4">
          <p>
            Delivered by <a href="http://www.fastly.com/">Fastly</a>,
            Rendered by <a href="https://developer.rackspace.com/?nbviewer=awesome">Rackspace</a>
          </p>
          <p>
            nbviewer GitHub <a href="https://github.com/jupyter/nbviewer">repository</a>.
          </p>
        </div>

        <div class="col-md-4">
          
  
            
              <p>
                nbviewer version:
                <a href="https://github.com/jupyter/nbviewer/commit/67ee47e55fa697614e03aa060a86019f75f2ddca">
                  67ee47e
                </a>
              </p>
            
          
  
  <p>
    nbconvert version: <a href="https://github.com/jupyter/nbconvert/releases/tag/5.3.1">
      5.3.1
    </a>
  </p>
  

          
  
  
  <p>
    Rendered
    <span class='date' data-date='Sat, 30 Dec 2017 04:50:47 UTC' title='Sat, 30 Dec 2017 04:50:47 UTC'>(Sat, 30 Dec 2017 04:50:47 UTC)</span>
  </p>
  

        </div>
      </div>
    </footer>
  

  <script src="/static/components/bootstrap/js/bootstrap.min.js?v=5869c96cc8f19086aee625d670d741f9"></script>
  <script src="/static/components/headroom.js/dist/headroom.min.js?v=b0a311ea668f8e768ea375f4a7abb81c"></script>
  <script src="/static/components/headroom.js/dist/jQuery.headroom.min.js?v=f3a1bae118315d0c234afc74dc6aab71"></script>

  
  
  <script>
    $(function(){ $("#menubar").headroom({
      tolerance: 5,
      offset: 205,
      classes: {
        initial: "animated",
        pinned: "slideInDown",
        unpinned: "slideOutUp"
      }
    })});
  </script>


  
  <script>
    (function(i,s,o,g,r,a,m){i['GoogleAnalyticsObject']=r;i[r]=i[r]||function(){
      (i[r].q=i[r].q||[]).push(arguments)},i[r].l=1*new Date();a=s.createElement(o),
      m=s.getElementsByTagName(o)[0];a.async=1;a.src=g;m.parentNode.insertBefore(a,m)
    })(window,document,'script','https://www.google-analytics.com/analytics.js','ga');
    ga('create', 'UA-52617120-5', 'auto');
    ga('send', 'pageview');
  </script>
  
  <script>
    require({
        paths: {
          moment: "/static/components/moment/min/moment.min.js?v=89f87298ad94aa1e6b92f42eb66da043"
        }
      }, ["moment"], function(moment){
      var date = $("footer .date"),
        m = moment(new Date(date.data('date'))),
        update = function(){ date.text(m.fromNow()); };
      setInterval(update, 61*1000);
      update();
      var w = $(window).scroll(function(event){
        $("body").toggleClass("scrolled", w.scrollTop() > 0);
      });
    });
  </script>

  <!--NEW RELIC Stop Perf Measurement-->
  
  <!--NEW RELIC End-->
</body>
</html>